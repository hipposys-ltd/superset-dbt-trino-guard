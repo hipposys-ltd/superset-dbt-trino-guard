{
 "cells": [
  {
   "cell_type": "code",
   "execution_count": 6,
   "id": "a98d2eb8-206b-48d4-8e15-ef0973848926",
   "metadata": {},
   "outputs": [],
   "source": [
    "import os\n",
    "\n",
    "def execute_cmd_command(script):\n",
    "    exit_code = os.system(script)\n",
    "    if exit_code != 0:\n",
    "        raise Exception('cmd failed')\n",
    "\n",
    "def run_trino_dbt_script(dbt_script):\n",
    "    project_path = '../dbt/TrinoDbt'\n",
    "    target_name = 'container'\n",
    "    deps_dbt_script = f'dbt deps --project-dir {project_path} --profiles-dir {project_path} -t {target_name}'\n",
    "    execute_cmd_command(deps_dbt_script)\n",
    "    inreached_dbt_script = f'{dbt_script} --project-dir {project_path} --profiles-dir {project_path} -t {target_name}'\n",
    "    execute_cmd_command(inreached_dbt_script)\n",
    "\n",
    "def run_postgres_dbt_script(dbt_script):\n",
    "    project_path = '../dbt/PostgresDbt'\n",
    "    target_name = 'container'\n",
    "    deps_dbt_script = f'dbt deps --project-dir {project_path} --profiles-dir {project_path} -t {target_name}'\n",
    "    execute_cmd_command(deps_dbt_script)\n",
    "    inreached_dbt_script = f'{dbt_script} --project-dir {project_path} --profiles-dir {project_path} -t {target_name}'\n",
    "    execute_cmd_command(inreached_dbt_script)"
   ]
  },
  {
   "cell_type": "code",
   "execution_count": 11,
   "id": "f0abcaa8-428a-4e0d-a010-c799a4a1b9bc",
   "metadata": {},
   "outputs": [
    {
     "name": "stdout",
     "output_type": "stream",
     "text": [
      "\u001b[0m15:31:00  Running with dbt=1.8.8\n",
      "\u001b[0m15:31:00  Warning: No packages were found in packages.yml\n",
      "\u001b[0m15:31:00  Warning: No packages were found in packages.yml\n",
      "\u001b[0m15:31:02  Running with dbt=1.8.8\n",
      "\u001b[0m15:31:02  Registered adapter: postgres=1.8.2\n",
      "\u001b[0m15:31:02  Unable to do partial parsing because of a version mismatch\n",
      "\u001b[0m15:31:02  [\u001b[33mWARNING\u001b[0m]: Configuration paths exist in your dbt_project.yml file which do not apply to any resources.\n",
      "There are 1 unused configuration paths:\n",
      "- models.PostgresDbt.example\n",
      "\u001b[0m15:31:02  Found 2 models, 1 source, 426 macros\n",
      "\u001b[0m15:31:02  \n",
      "\u001b[0m15:31:02  Concurrency: 1 threads (target='container')\n",
      "\u001b[0m15:31:02  \n",
      "\u001b[0m15:31:02  1 of 1 START sql table model ci_schema_dbt_999.metadata ........................ [RUN]\n",
      "\u001b[0m15:31:02  1 of 1 OK created sql table model ci_schema_dbt_999.metadata ................... [\u001b[32mSELECT 0\u001b[0m in 0.07s]\n",
      "\u001b[0m15:31:02  \n",
      "\u001b[0m15:31:02  Finished running 1 table model in 0 hours 0 minutes and 0.14 seconds (0.14s).\n",
      "\u001b[0m15:31:02  \n",
      "\u001b[0m15:31:02  \u001b[32mCompleted successfully\u001b[0m\n",
      "\u001b[0m15:31:02  \n",
      "\u001b[0m15:31:02  Done. PASS=1 WARN=0 ERROR=0 SKIP=0 TOTAL=1\n",
      "\u001b[0m15:31:04  Running with dbt=1.8.8\n",
      "\u001b[0m15:31:04  Warning: No packages were found in packages.yml\n",
      "\u001b[0m15:31:04  Warning: No packages were found in packages.yml\n",
      "\u001b[0m15:31:06  Running with dbt=1.8.8\n",
      "\u001b[0m15:31:06  Registered adapter: trino=1.8.3\n",
      "\u001b[0m15:31:06  Unable to do partial parsing because of a version mismatch\n",
      "\u001b[0m15:31:07  Found 1 test, 1 source, 445 macros\n",
      "\u001b[0m15:31:07  \n",
      "\u001b[0m15:31:07  Concurrency: 1 threads (target='container')\n",
      "\u001b[0m15:31:07  \n",
      "\u001b[0m15:31:07  1 of 1 START test superset_test ................................................ [RUN]\n",
      "\u001b[0m15:31:07  1 of 1 PASS superset_test ...................................................... [\u001b[32mPASS\u001b[0m in 0.13s]\n",
      "\u001b[0m15:31:07  \n",
      "\u001b[0m15:31:07  Finished running 1 test in 0 hours 0 minutes and 0.14 seconds (0.14s).\n",
      "\u001b[0m15:31:07  \n",
      "\u001b[0m15:31:07  \u001b[32mCompleted successfully\u001b[0m\n",
      "\u001b[0m15:31:07  \n",
      "\u001b[0m15:31:07  Done. PASS=1 WARN=0 ERROR=0 SKIP=0 TOTAL=1\n"
     ]
    }
   ],
   "source": [
    "os.environ[\"DBT_SCHEMA\"] = \"ci_schema_dbt_999\"\n",
    "os.environ[\"TRINO_SCHEMA\"] = \"ci_schema_dbt_999\"\n",
    "run_postgres_dbt_script('dbt build --select metadata')\n",
    "run_trino_dbt_script('dbt test --select superset_test')"
   ]
  }
 ],
 "metadata": {
  "kernelspec": {
   "display_name": "Python 3.11",
   "language": "python",
   "name": "python3.11"
  },
  "language_info": {
   "codemirror_mode": {
    "name": "ipython",
    "version": 3
   },
   "file_extension": ".py",
   "mimetype": "text/x-python",
   "name": "python",
   "nbconvert_exporter": "python",
   "pygments_lexer": "ipython3",
   "version": "3.11.10"
  }
 },
 "nbformat": 4,
 "nbformat_minor": 5
}

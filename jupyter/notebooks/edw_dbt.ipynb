{
 "cells": [
  {
   "cell_type": "code",
   "execution_count": 2,
   "id": "b4e24ef7-b446-4c78-b117-d4b3014212ed",
   "metadata": {},
   "outputs": [],
   "source": [
    "import os\n",
    "\n",
    "def run_dbt_script(dbt_script):\n",
    "    project_path = '../dbt/PostgresDbt'\n",
    "    target_name = 'container'\n",
    "    deps_dbt_script = f'dbt deps --project-dir {project_path} --profiles-dir {project_path} -t {target_name}'\n",
    "    os.system(deps_dbt_script)\n",
    "    inreached_dbt_script = f'{dbt_script} --project-dir {project_path} --profiles-dir {project_path} -t {target_name}'\n",
    "    os.system(inreached_dbt_script)"
   ]
  },
  {
   "cell_type": "code",
   "execution_count": 3,
   "id": "71371243-1d1d-4821-9b1e-f46b947308c0",
   "metadata": {},
   "outputs": [
    {
     "name": "stdout",
     "output_type": "stream",
     "text": [
      "\u001b[0m14:51:32  Running with dbt=1.8.8\n",
      "\u001b[0m14:51:32  Warning: No packages were found in packages.yml\n",
      "\u001b[0m14:51:32  Warning: No packages were found in packages.yml\n",
      "\u001b[0m14:51:34  Running with dbt=1.8.8\n",
      "\u001b[0m14:51:34  Registered adapter: postgres=1.8.2\n",
      "\u001b[0m14:51:35  Unable to do partial parsing because of a version mismatch\n",
      "\u001b[0m14:51:35  [\u001b[33mWARNING\u001b[0m]: Configuration paths exist in your dbt_project.yml file which do not apply to any resources.\n",
      "There are 1 unused configuration paths:\n",
      "- models.PostgresDbt.example\n",
      "\u001b[0m14:51:35  Found 2 models, 1 source, 426 macros\n",
      "\u001b[0m14:51:35  \n",
      "\u001b[0m14:51:35  Concurrency: 1 threads (target='container')\n",
      "\u001b[0m14:51:35  \n",
      "\u001b[0m14:51:35  1 of 1 START sql table model dbt.customers_202301 .............................. [RUN]\n",
      "\u001b[0m14:51:35  1 of 1 OK created sql table model dbt.customers_202301 ......................... [\u001b[32mSELECT 2\u001b[0m in 0.07s]\n",
      "\u001b[0m14:51:35  \n",
      "\u001b[0m14:51:35  Finished running 1 table model in 0 hours 0 minutes and 0.18 seconds (0.18s).\n",
      "\u001b[0m14:51:35  \n",
      "\u001b[0m14:51:35  \u001b[32mCompleted successfully\u001b[0m\n",
      "\u001b[0m14:51:35  \n",
      "\u001b[0m14:51:35  Done. PASS=1 WARN=0 ERROR=0 SKIP=0 TOTAL=1\n"
     ]
    }
   ],
   "source": [
    "run_dbt_script('dbt build --select customers_202301')"
   ]
  },
  {
   "cell_type": "code",
   "execution_count": 4,
   "id": "79ad2c2e-3ec2-40c2-a5c7-dde5193fc321",
   "metadata": {},
   "outputs": [
    {
     "name": "stdout",
     "output_type": "stream",
     "text": [
      "\u001b[0m14:51:47  Running with dbt=1.8.8\n",
      "\u001b[0m14:51:47  Warning: No packages were found in packages.yml\n",
      "\u001b[0m14:51:47  Warning: No packages were found in packages.yml\n",
      "\u001b[0m14:51:48  Running with dbt=1.8.8\n",
      "\u001b[0m14:51:49  Registered adapter: postgres=1.8.2\n",
      "\u001b[0m14:51:49  [\u001b[33mWARNING\u001b[0m]: Configuration paths exist in your dbt_project.yml file which do not apply to any resources.\n",
      "There are 1 unused configuration paths:\n",
      "- models.PostgresDbt.example\n",
      "\u001b[0m14:51:49  Found 2 models, 1 source, 426 macros\n",
      "\u001b[0m14:51:49  \n",
      "\u001b[0m14:51:49  Concurrency: 1 threads (target='container')\n",
      "\u001b[0m14:51:49  \n",
      "\u001b[0m14:51:49  1 of 1 START sql table model dbt.metadata ...................................... [RUN]\n",
      "\u001b[0m14:51:49  1 of 1 OK created sql table model dbt.metadata ................................. [\u001b[32mSELECT 0\u001b[0m in 0.08s]\n",
      "\u001b[0m14:51:49  \n",
      "\u001b[0m14:51:49  Finished running 1 table model in 0 hours 0 minutes and 0.16 seconds (0.16s).\n",
      "\u001b[0m14:51:49  \n",
      "\u001b[0m14:51:49  \u001b[32mCompleted successfully\u001b[0m\n",
      "\u001b[0m14:51:49  \n",
      "\u001b[0m14:51:49  Done. PASS=1 WARN=0 ERROR=0 SKIP=0 TOTAL=1\n"
     ]
    }
   ],
   "source": [
    "run_dbt_script('dbt build --select metadata')"
   ]
  }
 ],
 "metadata": {
  "kernelspec": {
   "display_name": "Python 3.11",
   "language": "python",
   "name": "python3.11"
  },
  "language_info": {
   "codemirror_mode": {
    "name": "ipython",
    "version": 3
   },
   "file_extension": ".py",
   "mimetype": "text/x-python",
   "name": "python",
   "nbconvert_exporter": "python",
   "pygments_lexer": "ipython3",
   "version": "3.11.10"
  }
 },
 "nbformat": 4,
 "nbformat_minor": 5
}
